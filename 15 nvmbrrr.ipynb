{
 "cells": [
  {
   "cell_type": "code",
   "execution_count": 19,
   "id": "8ace200f-a727-4766-a9ae-71e580dc84ac",
   "metadata": {},
   "outputs": [
    {
     "name": "stdin",
     "output_type": "stream",
     "text": [
      "Masukkan Jumlah:  5\n",
      "Masukkan angka ke-5:  5\n",
      "Masukkan angka ke-4:  4\n",
      "Masukkan angka ke-3:  3\n",
      "Masukkan angka ke-2:  2\n",
      "Masukkan angka ke-1:  1\n"
     ]
    },
    {
     "name": "stdout",
     "output_type": "stream",
     "text": [
      "Hasil penjumlahan: 15.0\n"
     ]
    }
   ],
   "source": [
    "def penjumlahan_rekursif(jumlah): #penjumlahan rekursif\n",
    "  if jumlah == 1:\n",
    "    angka = float(input(\"Masukkan angka ke-1: \"))\n",
    "    return angka #mengakumulasi\n",
    "  else:\n",
    "    angka = float(input(f\"Masukkan angka ke-{jumlah}: \")) #if dan else kondisi fungsi \n",
    "    return angka + penjumlahan_rekursif(jumlah - 1)\n",
    "\n",
    "jumlah_angka = int(input(\"Masukkan Jumlah: \")) # untuk memasukiin angkanya\n",
    "\n",
    "hasil = penjumlahan_rekursif(jumlah_angka)\n",
    "print(\"Hasil penjumlahan:\", hasil)"
   ]
  },
  {
   "cell_type": "code",
   "execution_count": 3,
   "id": "955f8aa8-cab4-4371-af88-67fceced7300",
   "metadata": {},
   "outputs": [
    {
     "name": "stdin",
     "output_type": "stream",
     "text": [
      "Masukkan Jumlah:  3\n",
      "Masukkan angka ke-3:  5\n",
      "Masukkan angka ke-2:  2\n",
      "Masukkan angka:  3\n"
     ]
    },
    {
     "name": "stdout",
     "output_type": "stream",
     "text": [
      "Hasil penjumlahan: 10\n"
     ]
    }
   ],
   "source": [
    "def penjumlahan_rekursif(jumlah):\n",
    "  if jumlah < 1:\n",
    "    return 0\n",
    "  elif jumlah == 1:\n",
    "    angka = int(input(\"Masukkan angka: \"))\n",
    "    return angka\n",
    "  else:\n",
    "    angka = int(input(f\"Masukkan angka ke-{jumlah}: \"))\n",
    "    return angka + penjumlahan_rekursif(jumlah - 1)\n",
    "\n",
    "jumlah_angka = int(input(\"Masukkan Jumlah: \"))\n",
    "\n",
    "hasil = penjumlahan_rekursif(jumlah_angka)\n",
    "print(\"Hasil penjumlahan:\", hasil)"
   ]
  },
  {
   "cell_type": "code",
   "execution_count": null,
   "id": "11a998d4-3716-4531-bae0-a0f2deac3fe1",
   "metadata": {},
   "outputs": [],
   "source": []
  }
 ],
 "metadata": {
  "kernelspec": {
   "display_name": "Python 3 (ipykernel)",
   "language": "python",
   "name": "python3"
  },
  "language_info": {
   "codemirror_mode": {
    "name": "ipython",
    "version": 3
   },
   "file_extension": ".py",
   "mimetype": "text/x-python",
   "name": "python",
   "nbconvert_exporter": "python",
   "pygments_lexer": "ipython3",
   "version": "3.12.4"
  }
 },
 "nbformat": 4,
 "nbformat_minor": 5
}
