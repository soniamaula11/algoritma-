{
 "cells": [
  {
   "cell_type": "code",
   "execution_count": 3,
   "id": "0c06a30c-f8b2-42e1-b941-cfbcd6dda9fa",
   "metadata": {},
   "outputs": [
    {
     "name": "stdin",
     "output_type": "stream",
     "text": [
      "Angka:  2\n",
      "Pangkat:  4\n"
     ]
    },
    {
     "name": "stdout",
     "output_type": "stream",
     "text": [
      "16.0\n"
     ]
    },
    {
     "name": "stdin",
     "output_type": "stream",
     "text": [
      "Angka:  2\n",
      "Pangkat:  -4\n"
     ]
    },
    {
     "name": "stdout",
     "output_type": "stream",
     "text": [
      "0.0625\n"
     ]
    },
    {
     "name": "stdin",
     "output_type": "stream",
     "text": [
      "Angka:  \n"
     ]
    },
    {
     "name": "stdout",
     "output_type": "stream",
     "text": [
      "byee\n"
     ]
    }
   ],
   "source": [
    "def power(a, n):\n",
    "    if n == 0:\n",
    "        return 1\n",
    "    elif n > 0:\n",
    "        return a * power(a, n - 1)\n",
    "    else:\n",
    "        return 1 / power(a, -n)\n",
    "\n",
    "while True:\n",
    "    try:\n",
    "        angka = float(input(\"Angka: \"))\n",
    "        pangkat = int(input(\"Pangkat: \"))\n",
    "        hasil = power(angka, pangkat)\n",
    "        print(hasil)\n",
    "    except ValueError:\n",
    "        print(\"byee\")\n",
    "        break\n"
   ]
  },
  {
   "cell_type": "code",
   "execution_count": null,
   "id": "1f3fe0bf-8666-4bb6-b9c1-9090e465b513",
   "metadata": {},
   "outputs": [],
   "source": []
  }
 ],
 "metadata": {
  "kernelspec": {
   "display_name": "Python 3 (ipykernel)",
   "language": "python",
   "name": "python3"
  },
  "language_info": {
   "codemirror_mode": {
    "name": "ipython",
    "version": 3
   },
   "file_extension": ".py",
   "mimetype": "text/x-python",
   "name": "python",
   "nbconvert_exporter": "python",
   "pygments_lexer": "ipython3",
   "version": "3.12.4"
  }
 },
 "nbformat": 4,
 "nbformat_minor": 5
}
